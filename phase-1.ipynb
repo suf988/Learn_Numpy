{
 "cells": [
  {
   "cell_type": "markdown",
   "id": "088eb0bd",
   "metadata": {},
   "source": [
    "## Numpy Array and Basics\n",
    "Learning about Numpy and its arrays"
   ]
  },
  {
   "cell_type": "code",
   "execution_count": 2,
   "id": "676b1479",
   "metadata": {},
   "outputs": [],
   "source": [
    "import numpy as np"
   ]
  },
  {
   "cell_type": "code",
   "execution_count": 3,
   "id": "1f716f21",
   "metadata": {},
   "outputs": [],
   "source": [
    "import numpy as np"
   ]
  },
  {
   "cell_type": "markdown",
   "id": "6d646603",
   "metadata": {},
   "source": [
    "### Creating Arrays from List"
   ]
  },
  {
   "cell_type": "code",
   "execution_count": 5,
   "id": "25bbe239",
   "metadata": {},
   "outputs": [
    {
     "name": "stdout",
     "output_type": "stream",
     "text": [
      "1D array: [1 2 3 4 5]\n",
      "2D array: [[1 2 3 4]\n",
      " [5 6 7 8]]\n"
     ]
    }
   ],
   "source": [
    "array_1D = np.array([1, 2, 3, 4, 5]) # is .array function ko ek hi arguement chahiye hoti hai, jo hai ek list.\n",
    "array_2D = np.array([[1, 2, 3, 4], [5, 6, 7, 8]])\n",
    "print(f\"1D array: {array_1D}\")\n",
    "print(f\"2D array: {array_2D}\")"
   ]
  },
  {
   "cell_type": "markdown",
   "id": "34787550",
   "metadata": {},
   "source": [
    "### List vs Numpy Array"
   ]
  },
  {
   "cell_type": "code",
   "execution_count": null,
   "id": "b5358a5a",
   "metadata": {},
   "outputs": [
    {
     "name": "stdout",
     "output_type": "stream",
     "text": [
      "Python list multiplication: [1, 2, 3, 4, 5, 1, 2, 3, 4, 5]\n",
      "Python list multiplication: [ 2  4  6  8 10]\n",
      "Time for list multiplication: 0.20456\n",
      "Time for numpy arrat multiplication: 0.00763\n"
     ]
    }
   ],
   "source": [
    "py_list = [1, 2, 3, 4, 5]\n",
    "print(f\"Python list multiplication: {py_list * 2}\")\n",
    "\n",
    "np_array = np.array([1, 2, 3, 4, 5])    # it multiplies the values inside (basically element wise) \n",
    "print(f\"Python list multiplication: {np_array * 2}\")\n",
    "\n",
    "import time\n",
    "\n",
    "start = time.time()\n",
    "\n",
    "py_list = [i*2 for i in range(1000000)]\n",
    "print(f\"\\nTime for list multiplication: {(time.time() - start):.5f}\")\n",
    "\n",
    "start = time.time()\n",
    "\n",
    "np_array = np.arange(1000000) * 2\n",
    "print(f\"Time for numpy arrat multiplication: {(time.time() - start):.5f}\")"
   ]
  },
  {
   "cell_type": "markdown",
   "id": "afe399f8",
   "metadata": {},
   "source": [
    "### Creating Numpy arrays from scratch\n",
    "We have some methods provided by numpy to create arrays/matrices\n",
    "\n",
    "- np.zeros( (rows, column) ) ====>(this gives array of zeros)\n",
    "- np.ones( (rows, column) )  ====>           (this gives array of ones)\n",
    "- np.full( (rows, column), any num ) ====>   (this gives array of any number you provide in the arguements)\n",
    "- np.random( (row, column) ) ====>   (gives array of random numbers)\n",
    "- np.arange( (start, stop, step) ) ====>   (gives array of sequence)"
   ]
  },
  {
   "cell_type": "code",
   "execution_count": 14,
   "id": "1ebd4684",
   "metadata": {},
   "outputs": [
    {
     "name": "stdout",
     "output_type": "stream",
     "text": [
      "Zeros array (matrice): \n",
      "[[0. 0. 0. 0.]\n",
      " [0. 0. 0. 0.]\n",
      " [0. 0. 0. 0.]]\n",
      "\n",
      "Ones array (matrice): \n",
      "[[1. 1. 1. 1.]\n",
      " [1. 1. 1. 1.]\n",
      " [1. 1. 1. 1.]]\n",
      "\n",
      "FULL array (matrice) of any given number: \n",
      "[[8 8 8]\n",
      " [8 8 8]\n",
      " [8 8 8]]\n",
      "\n",
      "Array (matrice) of random numbers: \n",
      "[[0.40752593 0.22664671 0.18820677]\n",
      " [0.10051367 0.64561645 0.00272414]\n",
      " [0.961337   0.36088348 0.19396148]\n",
      " [0.48882987 0.54831365 0.70106003]]\n",
      "\n",
      "Sequence array: \n",
      "[ 0  2  4  6  8 10]\n"
     ]
    }
   ],
   "source": [
    "zeros = np.zeros((3,4))\n",
    "print(f\"Zeros array (matrice): \\n{zeros}\")\n",
    "\n",
    "ones = np.ones((3,4))\n",
    "print(f\"\\nOnes array (matrice): \\n{ones}\")\n",
    "\n",
    "full = np.full((3,3),8)\n",
    "print(f\"\\nFULL array (matrice) of any given number: \\n{full}\")\n",
    "\n",
    "random = np.random.random((4,3))\n",
    "print(f\"\\nArray (matrice) of random numbers: \\n{random}\")\n",
    "\n",
    "sequence = np.arange(0, 11, 2)\n",
    "print(f\"\\nSequence array: \\n{sequence}\")\n"
   ]
  },
  {
   "cell_type": "markdown",
   "id": "c2f8c880",
   "metadata": {},
   "source": []
  }
 ],
 "metadata": {
  "kernelspec": {
   "display_name": "venv",
   "language": "python",
   "name": "python3"
  },
  "language_info": {
   "codemirror_mode": {
    "name": "ipython",
    "version": 3
   },
   "file_extension": ".py",
   "mimetype": "text/x-python",
   "name": "python",
   "nbconvert_exporter": "python",
   "pygments_lexer": "ipython3",
   "version": "3.8.0"
  }
 },
 "nbformat": 4,
 "nbformat_minor": 5
}
