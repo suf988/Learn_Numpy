{
 "cells": [
  {
   "cell_type": "markdown",
   "id": "088eb0bd",
   "metadata": {},
   "source": [
    "## Numpy Array and Basics\n",
    "Learning about Numpy and its arrays"
   ]
  },
  {
   "cell_type": "code",
   "execution_count": 1,
   "id": "1f716f21",
   "metadata": {},
   "outputs": [],
   "source": [
    "import numpy as np"
   ]
  },
  {
   "cell_type": "markdown",
   "id": "6d646603",
   "metadata": {},
   "source": [
    "### Creating Arrays from List"
   ]
  },
  {
   "cell_type": "code",
   "execution_count": 2,
   "id": "25bbe239",
   "metadata": {},
   "outputs": [
    {
     "name": "stdout",
     "output_type": "stream",
     "text": [
      "1D array: [1 2 3 4 5]\n",
      "2D array: [[1 2 3 4]\n",
      " [5 6 7 8]]\n"
     ]
    }
   ],
   "source": [
    "array_1D = np.array([1, 2, 3, 4, 5]) # is .array function ko ek hi arguement chahiye hoti hai, jo hai ek list.\n",
    "array_2D = np.array([[1, 2, 3, 4], [5, 6, 7, 8]])\n",
    "print(f\"1D array: {array_1D}\")\n",
    "print(f\"2D array: {array_2D}\")"
   ]
  },
  {
   "cell_type": "markdown",
   "id": "34787550",
   "metadata": {},
   "source": [
    "### List vs Numpy Array"
   ]
  },
  {
   "cell_type": "code",
   "execution_count": 3,
   "id": "b5358a5a",
   "metadata": {},
   "outputs": [
    {
     "name": "stdout",
     "output_type": "stream",
     "text": [
      "Python list multiplication: [1, 2, 3, 4, 5, 1, 2, 3, 4, 5]\n",
      "Python list multiplication: [ 2  4  6  8 10]\n",
      "\n",
      "Time for list multiplication: 0.27610\n",
      "Time for numpy arrat multiplication: 0.00656\n"
     ]
    }
   ],
   "source": [
    "py_list = [1, 2, 3, 4, 5]\n",
    "print(f\"Python list multiplication: {py_list * 2}\")\n",
    "\n",
    "np_array = np.array([1, 2, 3, 4, 5])    # it multiplies the values inside (basically element wise) \n",
    "print(f\"Python list multiplication: {np_array * 2}\")\n",
    "\n",
    "import time\n",
    "\n",
    "start = time.time()\n",
    "\n",
    "py_list = [i*2 for i in range(1000000)]\n",
    "print(f\"\\nTime for list multiplication: {(time.time() - start):.5f}\")\n",
    "\n",
    "start = time.time()\n",
    "\n",
    "np_array = np.arange(1000000) * 2\n",
    "print(f\"Time for numpy arrat multiplication: {(time.time() - start):.5f}\")"
   ]
  },
  {
   "cell_type": "markdown",
   "id": "afe399f8",
   "metadata": {},
   "source": [
    "### Creating Numpy arrays from scratch\n",
    "We have some methods provided by numpy to create arrays/matrices\n",
    "\n",
    "- **np.zeros( (rows, column) ):** this gives array of zeros\n",
    "- **np.ones( (rows, column) ):** this gives array of ones\n",
    "- **np.full( (rows, column), any num ):** this gives array of any number you provide in the arguements\n",
    "- **np.random( (row, column) ):** gives array of random numbers\n",
    "- **np.arange( (start, stop, step) ):** gives array of sequence\n",
    "- **np.eye( dimension):** gives identity matrix\n",
    "- **np.linespace(start, stop, num):** returns evenly spaced values between a start and stop value. The `num` argument defines how many values to generate."
   ]
  },
  {
   "cell_type": "code",
   "execution_count": 4,
   "id": "1ebd4684",
   "metadata": {},
   "outputs": [
    {
     "name": "stdout",
     "output_type": "stream",
     "text": [
      "Zeros array (matrice): \n",
      "[[0. 0. 0. 0.]\n",
      " [0. 0. 0. 0.]\n",
      " [0. 0. 0. 0.]]\n",
      "\n",
      "Ones array (matrice): \n",
      "[[1. 1. 1. 1.]\n",
      " [1. 1. 1. 1.]\n",
      " [1. 1. 1. 1.]]\n",
      "\n",
      "FULL array (matrice) of any given number: \n",
      "[[8 8 8]\n",
      " [8 8 8]\n",
      " [8 8 8]]\n",
      "\n",
      "Array (matrice) of random numbers: \n",
      "[[0.68119066 0.07176115 0.09879266]\n",
      " [0.58619133 0.69620531 0.65831427]\n",
      " [0.76484571 0.41342272 0.88732109]\n",
      " [0.08548184 0.50543966 0.56344407]]\n",
      "\n",
      "Sequence array: \n",
      "[ 0  2  4  6  8 10]\n",
      "\n",
      "Identity matrix: \n",
      "[[1. 0. 0. 0. 0.]\n",
      " [0. 1. 0. 0. 0.]\n",
      " [0. 0. 1. 0. 0.]\n",
      " [0. 0. 0. 1. 0.]\n",
      " [0. 0. 0. 0. 1.]]\n",
      "\n",
      "Array with equally spaced values: [ 0.   2.5  5.   7.5 10.  12.5 15. ]\n"
     ]
    }
   ],
   "source": [
    "zeros = np.zeros((3,4))\n",
    "print(f\"Zeros array (matrice): \\n{zeros}\")\n",
    "\n",
    "ones = np.ones((3,4))\n",
    "print(f\"\\nOnes array (matrice): \\n{ones}\")\n",
    "\n",
    "full = np.full((3,3),8)\n",
    "print(f\"\\nFULL array (matrice) of any given number: \\n{full}\")\n",
    "\n",
    "random = np.random.random((4,3))\n",
    "print(f\"\\nArray (matrice) of random numbers: \\n{random}\")\n",
    "\n",
    "sequence = np.arange(0, 11, 2)\n",
    "print(f\"\\nSequence array: \\n{sequence}\")\n",
    "\n",
    "eye = np.eye(5)\n",
    "print(f\"\\nIdentity matrix: \\n{eye}\")\n",
    "\n",
    "linespace = np.linspace(0, 15, 7)\n",
    "print(f\"\\nArray with equally spaced values: {linespace}\")"
   ]
  },
  {
   "cell_type": "markdown",
   "id": "c2f8c880",
   "metadata": {},
   "source": [
    "### Vector, Matrix and Tensor\n",
    "\n",
    "- Vector is 1D array\n",
    "- Matrix is 2D array\n",
    "- Tensor is 3D array or more"
   ]
  },
  {
   "cell_type": "code",
   "execution_count": 8,
   "id": "0069e80f",
   "metadata": {},
   "outputs": [
    {
     "name": "stdout",
     "output_type": "stream",
     "text": [
      "Vector: \n",
      "[1 2 3]\n",
      "\n",
      "Matrix: \n",
      "[[1 2 3]\n",
      " [4 5 6]]\n",
      "\n",
      "Tensor: \n",
      "[[[ 1  2  3]\n",
      "  [ 4  5  6]]\n",
      "\n",
      " [[ 7  8  9]\n",
      "  [10 11 12]]]\n"
     ]
    }
   ],
   "source": [
    "vector = np.array([1, 2, 3])\n",
    "print(f\"Vector: \\n{vector}\")\n",
    "\n",
    "matrix = np.array([ [1, 2, 3],\n",
    "                    [4, 5, 6] ])\n",
    "print(f\"\\nMatrix: \\n{matrix}\")\n",
    "\n",
    "tensor = np.array([ [ [1, 2, 3], [4, 5, 6] ],\n",
    "                   [ [7, 8, 9], [10, 11, 12] ] ])\n",
    "print(f\"\\nTensor: \\n{tensor}\")"
   ]
  },
  {
   "cell_type": "markdown",
   "id": "a005de20",
   "metadata": {},
   "source": [
    "### Numpy array properties\n",
    "\n",
    "- **shape:** gives the shape of array, like whether its 2x3 or 4x5 etc.\n",
    "- **ndim:** gives the dimension (1D, 2D, 3D.....)\n",
    "- **size:** gives the number of elements present in the array.\n",
    "- **dtype:** gives the datatype used in the array."
   ]
  },
  {
   "cell_type": "code",
   "execution_count": 6,
   "id": "7a155404",
   "metadata": {},
   "outputs": [
    {
     "name": "stdout",
     "output_type": "stream",
     "text": [
      "Shape: (2, 3)\n",
      "Dimension: 2\n",
      "Size: 6\n",
      "Datatype: int32\n"
     ]
    }
   ],
   "source": [
    "arr = np.array([ [1, 2, 3],\n",
    "                 [4, 5, 6] ])\n",
    "\n",
    "print(f\"Shape: {arr.shape}\")\n",
    "print(f\"Dimension: {arr.ndim}\")\n",
    "print(f\"Size: {arr.size}\")\n",
    "print(f\"Datatype: {arr.dtype}\")"
   ]
  },
  {
   "cell_type": "markdown",
   "id": "8c5edd51",
   "metadata": {},
   "source": [
    "### Manipulating the array\n",
    "\n",
    "- **reshape**: will change the dimension of the array.\n",
    "- **flatten**: will flatten the whole array into 1D. It returns a **copy** of the original array.\n",
    "- **ravel**: works the same as flatten but returns a **view** (original array) if possible, so it's more memory efficient.\n",
    "- **T**: will return the **transpose** of the array (rows become columns and columns become rows), e.g., 3x4 → 4x3.\n",
    "- **resize**: modifies the original array in-place. If the new shape requires more elements, it repeats existing values or fills with 0s.\n"
   ]
  },
  {
   "cell_type": "code",
   "execution_count": 7,
   "id": "c93fce3b",
   "metadata": {},
   "outputs": [
    {
     "name": "stdout",
     "output_type": "stream",
     "text": [
      "Original array: [ 0  1  2  3  4  5  6  7  8  9 10 11]\n",
      "\n",
      "Reshaped array: [[ 0  1  2  3]\n",
      " [ 4  5  6  7]\n",
      " [ 8  9 10 11]]\n",
      "\n",
      "Flattened array: [ 0  1  2  3  4  5  6  7  8  9 10 11]\n",
      "\n",
      "Raveled array: [ 0  1  2  3  4  5  6  7  8  9 10 11]\n",
      "\n",
      "Transpose: [[ 0  4  8]\n",
      " [ 1  5  9]\n",
      " [ 2  6 10]\n",
      " [ 3  7 11]]\n",
      "\n",
      "Resized: [[ 0  1  2  3]\n",
      " [ 4  5  6  7]\n",
      " [ 8  9 10 11]\n",
      " [ 0  1  2  3]\n",
      " [ 4  5  6  7]]\n",
      "\n",
      "Resized: [[1 2 3]\n",
      " [4 5 6]\n",
      " [7 8 0]\n",
      " [0 0 0]]\n"
     ]
    }
   ],
   "source": [
    "arr = np.array([0, 1, 2, 3, 4, 5, 6, 7, 8, 9, 10, 11])\n",
    "print(f\"Original array: {arr}\")\n",
    "\n",
    "reshaped = arr.reshape((3,4))   # will return an error if the reshape dimensions are not equal to the elements in the array\n",
    "print(f\"\\nReshaped array: {reshaped}\")\n",
    "\n",
    "flattened = reshaped.flatten()\n",
    "print(f\"\\nFlattened array: {flattened}\")\n",
    "\n",
    "raveled = reshaped.ravel()   #raveled is same function as flatten, but ravel returns the original array while flatten returns copy\n",
    "print(f\"\\nRaveled array: {raveled}\")\n",
    "\n",
    "transpose = reshaped.T\n",
    "print(f\"\\nTranspose: {transpose}\")\n",
    "\n",
    "\n",
    "# =========================================================\n",
    "# Resize in 2 ways:\n",
    "\n",
    "resized = np.resize(arr, (5,4))\n",
    "print(f\"\\nResized: {resized}\")\n",
    "\n",
    "arr2 = np.array([1, 2, 3, 4, 5, 6, 7, 8])\n",
    "arr2.resize(4,3)\n",
    "print(f\"\\nResized: {arr2}\")"
   ]
  }
 ],
 "metadata": {
  "kernelspec": {
   "display_name": "venv",
   "language": "python",
   "name": "python3"
  },
  "language_info": {
   "codemirror_mode": {
    "name": "ipython",
    "version": 3
   },
   "file_extension": ".py",
   "mimetype": "text/x-python",
   "name": "python",
   "nbconvert_exporter": "python",
   "pygments_lexer": "ipython3",
   "version": "3.8.0"
  }
 },
 "nbformat": 4,
 "nbformat_minor": 5
}
