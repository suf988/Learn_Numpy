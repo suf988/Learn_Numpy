{
 "cells": [
  {
   "cell_type": "markdown",
   "id": "088eb0bd",
   "metadata": {},
   "source": [
    "## Numpy Array and Basics\n",
    "Learning about Numpy and its arrays"
   ]
  },
  {
   "cell_type": "code",
   "execution_count": 2,
   "id": "676b1479",
   "metadata": {},
   "outputs": [],
   "source": [
    "import numpy as np"
   ]
  },
  {
   "cell_type": "code",
   "execution_count": 3,
   "id": "1f716f21",
   "metadata": {},
   "outputs": [],
   "source": [
    "import numpy as np"
   ]
  },
  {
   "cell_type": "markdown",
   "id": "6d646603",
   "metadata": {},
   "source": [
    "### Creating Arrays from List"
   ]
  },
  {
   "cell_type": "code",
   "execution_count": 5,
   "id": "25bbe239",
   "metadata": {},
   "outputs": [
    {
     "name": "stdout",
     "output_type": "stream",
     "text": [
      "1D array: [1 2 3 4 5]\n",
      "2D array: [[1 2 3 4]\n",
      " [5 6 7 8]]\n"
     ]
    }
   ],
   "source": [
    "array_1D = np.array([1, 2, 3, 4, 5]) # is .array function ko ek hi arguement chahiye hoti hai, jo hai ek list.\n",
    "array_2D = np.array([[1, 2, 3, 4], [5, 6, 7, 8]])\n",
    "print(f\"1D array: {array_1D}\")\n",
    "print(f\"2D array: {array_2D}\")"
   ]
  },
  {
   "cell_type": "markdown",
   "id": "34787550",
   "metadata": {},
   "source": [
    "### List vs Numpy Array"
   ]
  },
  {
   "cell_type": "code",
   "execution_count": 11,
   "id": "b5358a5a",
   "metadata": {},
   "outputs": [
    {
     "name": "stdout",
     "output_type": "stream",
     "text": [
      "Python list multiplication: [1, 2, 3, 4, 5, 1, 2, 3, 4, 5]\n",
      "Python list multiplication: [ 2  4  6  8 10]\n",
      "Time for list multiplication: 0.20456\n",
      "Time for numpy arrat multiplication: 0.00763\n"
     ]
    }
   ],
   "source": [
    "py_list = [1, 2, 3, 4, 5]\n",
    "print(f\"Python list multiplication: {py_list * 2}\")\n",
    "\n",
    "np_array = np.array([1, 2, 3, 4, 5])    # it multiplies the values inside (basically element wise) \n",
    "print(f\"Python list multiplication: {np_array * 2}\")\n",
    "\n",
    "import time\n",
    "\n",
    "start = time.time()\n",
    "\n",
    "py_list = [i*2 for i in range(1000000)]\n",
    "print(f\"Time for list multiplication: {(time.time() - start):.5f}\")\n",
    "\n",
    "start = time.time()\n",
    "\n",
    "np_array = np.arange(1000000) * 2\n",
    "print(f\"Time for numpy arrat multiplication: {(time.time() - start):.5f}\")"
   ]
  },
  {
   "cell_type": "code",
   "execution_count": null,
   "id": "afe399f8",
   "metadata": {},
   "outputs": [],
   "source": []
  }
 ],
 "metadata": {
  "kernelspec": {
   "display_name": "venv",
   "language": "python",
   "name": "python3"
  },
  "language_info": {
   "codemirror_mode": {
    "name": "ipython",
    "version": 3
   },
   "file_extension": ".py",
   "mimetype": "text/x-python",
   "name": "python",
   "nbconvert_exporter": "python",
   "pygments_lexer": "ipython3",
   "version": "3.8.0"
  }
 },
 "nbformat": 4,
 "nbformat_minor": 5
}
