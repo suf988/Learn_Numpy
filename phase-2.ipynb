{
 "cells": [
  {
   "cell_type": "markdown",
   "id": "27cd6d2b",
   "metadata": {},
   "source": [
    "## Numpy Array Operations\n",
    "\n",
    "### Indexing and Slicing"
   ]
  },
  {
   "cell_type": "code",
   "execution_count": 1,
   "id": "089247bb",
   "metadata": {},
   "outputs": [],
   "source": [
    "import numpy as np"
   ]
  },
  {
   "cell_type": "markdown",
   "id": "9b85296b",
   "metadata": {},
   "source": [
    "- **Indexing and Slicing 1D Array**"
   ]
  },
  {
   "cell_type": "code",
   "execution_count": 2,
   "id": "97ed1ba0",
   "metadata": {},
   "outputs": [
    {
     "name": "stdout",
     "output_type": "stream",
     "text": [
      "Orignal Array: [ 1  2  3  4  5  6  7  8  9 10]\n",
      "\n",
      "Indexing any number: 6\n",
      "\n",
      "Negative indexing: 8\n",
      "\n",
      "Slicing: [4 5 6]\n",
      "\n",
      "Slicing with step: [2 4 6 8]\n",
      "\n",
      "Negative Slicing: [6 7 8]\n"
     ]
    }
   ],
   "source": [
    "arr = np.arange(1,11)\n",
    "print(f\"Orignal Array: {arr}\")\n",
    "\n",
    "print(f\"\\nIndexing any number: {arr[5]}\")\n",
    "\n",
    "print(f\"\\nNegative indexing: {arr[-3]}\")\n",
    "\n",
    "print(f\"\\nSlicing: {arr[3:6]}\")\n",
    "\n",
    "print(f\"\\nSlicing with step: {arr[1:9:2]}\")\n",
    "\n",
    "print(f\"\\nNegative Slicing: {arr[-5:-2]}\")"
   ]
  },
  {
   "cell_type": "markdown",
   "id": "e751b90b",
   "metadata": {},
   "source": [
    "- **Indexing and Slicing 2D Array**"
   ]
  },
  {
   "cell_type": "code",
   "execution_count": 3,
   "id": "6a60697e",
   "metadata": {},
   "outputs": [
    {
     "name": "stdout",
     "output_type": "stream",
     "text": [
      "Original 2D Array:\n",
      "[[1 2 3]\n",
      " [4 5 6]\n",
      " [7 8 9]]\n",
      "\n",
      "Specific element: 9\n",
      "\n",
      "Entire row: [4 5 6]\n",
      "\n",
      "Entire column: [1 4 7]\n"
     ]
    }
   ],
   "source": [
    "arr_2D = np.array([ [1, 2, 3],\n",
    "                    [4, 5, 6],\n",
    "                    [7, 8, 9] ])\n",
    "\n",
    "print(f\"Original 2D Array:\\n{arr_2D}\")\n",
    "\n",
    "# targeting an element on specific row and column\n",
    "print(f\"\\nSpecific element: {arr_2D[2,2]}\")         # 3rd row 3rd column\n",
    "\n",
    "# targeting entire row\n",
    "print(f\"\\nEntire row: {arr_2D[1]}\")                 # entire 2nd row\n",
    "\n",
    "# targeting entire column\n",
    "print(f\"\\nEntire column: {arr_2D[:,0]}\")            # entire 1st column"
   ]
  },
  {
   "cell_type": "markdown",
   "id": "83c62537",
   "metadata": {},
   "source": [
    "### Sorting arrays"
   ]
  },
  {
   "cell_type": "code",
   "execution_count": null,
   "id": "56af8a49",
   "metadata": {},
   "outputs": [
    {
     "name": "stdout",
     "output_type": "stream",
     "text": [
      "Unsorted 1D array: [3 5 2 5 1 8 0 4 2 9 6]\n",
      "\n",
      "Sorted 1D array: [0 1 2 2 3 4 5 5 6 8 9]\n",
      "\n",
      "Unsorted 2D array: \n",
      "[[3 1]\n",
      " [1 2]\n",
      " [2 3]]\n",
      "\n",
      "Sorted 2D array by column: \n",
      "[[1 1]\n",
      " [2 2]\n",
      " [3 3]]\n",
      "\n",
      "Sorted 2D array by row: \n",
      "[[1 3]\n",
      " [1 2]\n",
      " [2 3]]\n"
     ]
    }
   ],
   "source": [
    "arr_1D_unsorted = np.array([3, 5, 2, 5, 1, 8, 0, 4, 2, 9, 6])\n",
    "print(f\"Unsorted 1D array: {arr_1D_unsorted}\")\n",
    "\n",
    "print(f\"\\nSorted 1D array: {np.sort(arr_1D_unsorted)}\")\n",
    "\n",
    "arr_2D_unsorted = np.array([ [3, 1],\n",
    "                             [1, 2],\n",
    "                             [2, 3] ])\n",
    "\n",
    "print(f\"\\nUnsorted 2D array: \\n{arr_2D_unsorted}\")\n",
    "\n",
    "print(f\"\\nSorted 2D array by column: \\n{np.sort(arr_2D_unsorted, axis=0)}\") # axis = 0 for column-wise sorting\n",
    "print(f\"\\nSorted 2D array by row: \\n{np.sort(arr_2D_unsorted, axis=1)}\")    # axis = 1 for row-wise sorting"
   ]
  },
  {
   "cell_type": "markdown",
   "id": "5d1df0ae",
   "metadata": {},
   "source": [
    "### Filtering Arrays"
   ]
  },
  {
   "cell_type": "code",
   "execution_count": 5,
   "id": "93a55ab9",
   "metadata": {},
   "outputs": [
    {
     "name": "stdout",
     "output_type": "stream",
     "text": [
      "Original Array: [ 1  2  3  4  5  6  7  8  9 10]\n",
      "\n",
      "Even Numbers: [ 2  4  6  8 10]\n"
     ]
    }
   ],
   "source": [
    "numbers = np.arange(1,11)\n",
    "print(f\"Original Array: {numbers}\")\n",
    "\n",
    "even = numbers[numbers % 2 == 0]\n",
    "print(f\"\\nEven Numbers: {even}\")"
   ]
  },
  {
   "cell_type": "markdown",
   "id": "333a188a",
   "metadata": {},
   "source": [
    "- **Filtering using Mask:** Masking means using a condition to find and select specific values from an array.\n",
    "\n",
    "For Example:\n",
    "`numbers[numbers % 2 != 0]`, we store it in a variable `(mask_odd)` and then use it — e.g., `numbers[mask_odd]`."
   ]
  },
  {
   "cell_type": "code",
   "execution_count": 6,
   "id": "5346530a",
   "metadata": {},
   "outputs": [
    {
     "name": "stdout",
     "output_type": "stream",
     "text": [
      "Odd Numbers: [1 3 5 7 9]\n",
      "\n",
      "Numbers greater than 5: [ 6  7  8  9 10]\n"
     ]
    }
   ],
   "source": [
    "mask_odd = numbers % 2 != 0\n",
    "print(f\"Odd Numbers: {numbers[mask_odd]}\")\n",
    "\n",
    "mask = numbers > 5\n",
    "print(f\"\\nNumbers greater than 5: {numbers[mask]}\")"
   ]
  },
  {
   "cell_type": "markdown",
   "id": "63e4f193",
   "metadata": {},
   "source": [
    "### `np.where()` method in Numpy Arrays"
   ]
  },
  {
   "cell_type": "code",
   "execution_count": 18,
   "id": "10c02218",
   "metadata": {},
   "outputs": [
    {
     "name": "stdout",
     "output_type": "stream",
     "text": [
      "[3 5 7]\n",
      "[ 5  6  7  8  9 10]\n"
     ]
    }
   ],
   "source": [
    "indices = [2, 4, 6]\n",
    "print(numbers[indices])\n",
    "\n",
    "where_result = np.where(numbers > 4)    # it is also masking, here we are using '.where()' method \n",
    "print(numbers[where_result])\n"
   ]
  },
  {
   "cell_type": "markdown",
   "id": "1130edde",
   "metadata": {},
   "source": [
    "The `np.where()` function is used to apply a condition to each element of an array.  \n",
    "It returns one value **for that element** if the condition is true,  \n",
    "and another value **for that same element** if the condition is false.\n",
    "\n",
    "**Syntax:**\n",
    "```python\n",
    "np.where(condition, value_if_true, value_if_false)"
   ]
  },
  {
   "cell_type": "code",
   "execution_count": 19,
   "id": "1606a0be",
   "metadata": {},
   "outputs": [
    {
     "name": "stdout",
     "output_type": "stream",
     "text": [
      "[ 1  2  3  4  5 18 21 24 27 30]\n",
      "[ 2  4  6 16 20 24 28 32 36 40]\n"
     ]
    }
   ],
   "source": [
    "# first it will check the condition on each element of the array, then will apply given operation to only those elements which fulfills the condition, and another value for those elements which don't fulfill the condition.\n",
    "\n",
    "condition_array = np.where(numbers > 5, numbers * 3, numbers)\n",
    "print(condition_array)\n",
    "\n",
    "new_num = np.where(numbers > 3, numbers * 4, numbers * 2)\n",
    "print(new_num)"
   ]
  },
  {
   "cell_type": "markdown",
   "id": "3f55f2bf",
   "metadata": {},
   "source": [
    "### Some more manipulations in np arrays\n",
    "\n",
    "- **Concatenating array:** Concatenating arrays using `np.concatenate()` method"
   ]
  },
  {
   "cell_type": "code",
   "execution_count": 9,
   "id": "493db621",
   "metadata": {},
   "outputs": [
    {
     "name": "stdout",
     "output_type": "stream",
     "text": [
      "This one is adding array: [12 15 18]\n",
      "Concatenating arrays: [1 2 3 4 5 6 7 8 9]\n"
     ]
    }
   ],
   "source": [
    "arr_1 = np.array([1, 2, 3])\n",
    "arr_2 = np.array([4, 5, 6])\n",
    "arr_3 = np.array([7, 8, 9])\n",
    "\n",
    "print(f\"This one is adding array: {arr_1 + arr_2 + arr_3}\") # this is not concatenating, its adding the values\n",
    "\n",
    "print(f\"Concatenating arrays: {np.concatenate((arr_1, arr_2, arr_3))}\")"
   ]
  },
  {
   "cell_type": "markdown",
   "id": "d5dacdd3",
   "metadata": {},
   "source": [
    "- **Checking array compatibility:** Checking whether the arrays have same shapes using `.shape` method."
   ]
  },
  {
   "cell_type": "code",
   "execution_count": 10,
   "id": "d20b1e20",
   "metadata": {},
   "outputs": [
    {
     "name": "stdout",
     "output_type": "stream",
     "text": [
      "Array 1, 2 and 3 are compatible: True\n"
     ]
    }
   ],
   "source": [
    "a1 = np.array([1, 2, 3])\n",
    "a2 = np.array([4, 5, 6])\n",
    "a3 = np.array([7, 8, 9])\n",
    "\n",
    "# all the arrays have same shape i.e. 1x3\n",
    "print(f\"Array 1, 2 and 3 are compatible: {a1.shape == a2.shape == a3.shape}\")"
   ]
  },
  {
   "cell_type": "markdown",
   "id": "c19d46a1",
   "metadata": {},
   "source": [
    "- **Adding a rows and columns in existing array:**\n",
    "\n",
    "`vstack` is used to add data vertically (row-wise)\n",
    "\n",
    "`hstack` is used to add data horizontally (column-wise)"
   ]
  },
  {
   "cell_type": "code",
   "execution_count": 11,
   "id": "a977396a",
   "metadata": {},
   "outputs": [
    {
     "name": "stdout",
     "output_type": "stream",
     "text": [
      "Original array:\n",
      "[[1 3]\n",
      " [5 7]]\n",
      "Array with new row:\n",
      "[[1 3]\n",
      " [5 7]\n",
      " [4 6]]\n",
      "Original array:\n",
      "[[1 3]\n",
      " [5 7]]\n",
      "Array with new column:\n",
      "[[1 3 2]\n",
      " [5 7 0]]\n"
     ]
    }
   ],
   "source": [
    "original_array = np.array([ [1, 3],\n",
    "                            [5, 7] ])\n",
    "new_row = np.array([[4, 6]])    #should create the new row in 2D. though numpy adjust it automatically.\n",
    "array_with_row = np.vstack((original_array, new_row))\n",
    "\n",
    "print(f\"Original array:\\n{original_array}\")\n",
    "print(f\"Array with new row:\\n{array_with_row}\")\n",
    "new_row = np.array([[4, 6]])\n",
    "\n",
    "\n",
    "new_col = np.array([[2], [0]])    #should create the new col in 2D. though numpy adjust it automatically.\n",
    "array_with_col = np.hstack((original_array, new_col))\n",
    "\n",
    "print(f\"Original array:\\n{original_array}\")\n",
    "print(f\"Array with new column:\\n{array_with_col}\")\n",
    "new_row = np.array([[4, 6]])"
   ]
  },
  {
   "cell_type": "markdown",
   "id": "c96ffa57",
   "metadata": {},
   "source": [
    "- **Deleting data:** Deleting data from np array\n",
    "\n",
    "np.delete(array, index_or_indices, axis=None)\n",
    "\n",
    "`None` → flattens the array and deletes from the flat version\n",
    "\n",
    "`0` → delete rows\n",
    "\n",
    "`1` → delete columns\n",
    "\n",
    "If you don’t pass axis, NumPy will flatten the array and delete based on 1D indexing — which usually leads to confusing results in 2D arrays."
   ]
  },
  {
   "cell_type": "code",
   "execution_count": 12,
   "id": "b67ca8de",
   "metadata": {},
   "outputs": [
    {
     "name": "stdout",
     "output_type": "stream",
     "text": [
      "Original Array: \n",
      "[1 2 3 4 5]\n",
      "\n",
      "Array after deletion: \n",
      "[1 2 4 5]\n",
      "\n",
      "Original Array: \n",
      "[[1 2 3]\n",
      " [4 5 6]\n",
      " [7 8 9]]\n",
      "\n",
      "Array after row deletion: \n",
      "[[1 2 3]\n",
      " [7 8 9]]\n",
      "\n",
      "Original Array: \n",
      "[[1 2 3]\n",
      " [4 5 6]\n",
      " [7 8 9]]\n",
      "\n",
      "Array after column deletion: \n",
      "[[1 3]\n",
      " [4 6]\n",
      " [7 9]]\n"
     ]
    }
   ],
   "source": [
    "# deleting from 1D array\n",
    "\n",
    "array = np.array([1, 2, 3, 4, 5])\n",
    "deleted = np.delete(array, 2)\n",
    "\n",
    "print(f\"Original Array: \\n{array}\")\n",
    "print(f\"\\nArray after deletion: \\n{deleted}\")\n",
    "\n",
    "# deleting from 2D array\n",
    "\n",
    "array = np.array([ [1, 2, 3],\n",
    "                   [4, 5, 6],\n",
    "                   [7, 8, 9] ])\n",
    "delete_row = np.delete(array, 1, axis=0)\n",
    "\n",
    "print(f\"\\nOriginal Array: \\n{array}\")\n",
    "print(f\"\\nArray after row deletion: \\n{delete_row}\")\n",
    "\n",
    "delete_col = np.delete(array, 1, axis=1)\n",
    "\n",
    "print(f\"\\nOriginal Array: \\n{array}\")\n",
    "print(f\"\\nArray after column deletion: \\n{delete_col}\")\n"
   ]
  },
  {
   "cell_type": "markdown",
   "id": "9bdb6eb7",
   "metadata": {},
   "source": [
    "- **Deleting a single element from a 2D array:**\n",
    "\n",
    "You cannot directly delete a single element from a row or column of a 2D array in place, because NumPy arrays must remain rectangular (all rows same length).\n",
    "\n",
    "For that, you have to `flatten` the array and then delete the element and then convert the array to 2D (if needed).\n"
   ]
  },
  {
   "cell_type": "code",
   "execution_count": 13,
   "id": "208b801b",
   "metadata": {},
   "outputs": [
    {
     "name": "stdout",
     "output_type": "stream",
     "text": [
      "Original Array: \n",
      "[[1 2 3]\n",
      " [4 5 6]\n",
      " [7 8 9]]\n",
      "\n",
      "Array after deleting a single element: \n",
      "[1 2 3 4 5 6 7 9]\n",
      "\n",
      "Array again in 2D (optional): \n",
      "[[1 2 3]\n",
      " [4 5 6]\n",
      " [7 9 1]]\n"
     ]
    }
   ],
   "source": [
    "dummy_array = np.array([ [1, 2, 3],\n",
    "                         [4, 5, 6],\n",
    "                         [7, 8, 9] ])\n",
    "\n",
    "# suppose you want to delete element 8, that is 7th in index\n",
    "flatten_index = 7\n",
    "\n",
    "element_deletion = np.delete(dummy_array, flatten_index) # deleted the element but now the array is in 1D.\n",
    "array_in_2D = np.resize(element_deletion, (3,3))    # resizing the array to make 2D again (optional)\n",
    "\n",
    "print(f\"Original Array: \\n{dummy_array}\")\n",
    "print(f\"\\nArray after deleting a single element: \\n{element_deletion}\")\n",
    "print(f\"\\nArray again in 2D (optional): \\n{array_in_2D}\")"
   ]
  }
 ],
 "metadata": {
  "kernelspec": {
   "display_name": "venv",
   "language": "python",
   "name": "python3"
  },
  "language_info": {
   "codemirror_mode": {
    "name": "ipython",
    "version": 3
   },
   "file_extension": ".py",
   "mimetype": "text/x-python",
   "name": "python",
   "nbconvert_exporter": "python",
   "pygments_lexer": "ipython3",
   "version": "3.8.0"
  }
 },
 "nbformat": 4,
 "nbformat_minor": 5
}
