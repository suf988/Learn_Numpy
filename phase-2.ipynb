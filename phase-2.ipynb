{
 "cells": [
  {
   "cell_type": "markdown",
   "id": "27cd6d2b",
   "metadata": {},
   "source": [
    "## Numpy Array Operations\n",
    "\n",
    "### Indexing and Slicing"
   ]
  },
  {
   "cell_type": "code",
   "execution_count": 1,
   "id": "089247bb",
   "metadata": {},
   "outputs": [],
   "source": [
    "import numpy as np"
   ]
  },
  {
   "cell_type": "markdown",
   "id": "9b85296b",
   "metadata": {},
   "source": [
    "- **Indexing and Slicing 1D Array**"
   ]
  },
  {
   "cell_type": "code",
   "execution_count": 10,
   "id": "97ed1ba0",
   "metadata": {},
   "outputs": [
    {
     "name": "stdout",
     "output_type": "stream",
     "text": [
      "Orignal Array: [ 1  2  3  4  5  6  7  8  9 10]\n",
      "\n",
      "Indexing any number: 6\n",
      "\n",
      "Negative indexing: 8\n",
      "\n",
      "Slicing: [4 5 6]\n",
      "\n",
      "Slicing with step: [2 4 6 8]\n",
      "\n",
      "Negative Slicing: [6 7 8]\n"
     ]
    }
   ],
   "source": [
    "arr = np.arange(1,11)\n",
    "print(f\"Orignal Array: {arr}\")\n",
    "\n",
    "print(f\"\\nIndexing any number: {arr[5]}\")\n",
    "\n",
    "print(f\"\\nNegative indexing: {arr[-3]}\")\n",
    "\n",
    "print(f\"\\nSlicing: {arr[3:6]}\")\n",
    "\n",
    "print(f\"\\nSlicing with step: {arr[1:9:2]}\")\n",
    "\n",
    "print(f\"\\nNegative Slicing: {arr[-5:-2]}\")"
   ]
  },
  {
   "cell_type": "markdown",
   "id": "e751b90b",
   "metadata": {},
   "source": [
    "- **Indexing and Slicing 2D Array**"
   ]
  },
  {
   "cell_type": "code",
   "execution_count": 19,
   "id": "6a60697e",
   "metadata": {},
   "outputs": [
    {
     "name": "stdout",
     "output_type": "stream",
     "text": [
      "Original 2D Array:\n",
      "[[1 2 3]\n",
      " [4 5 6]\n",
      " [7 8 9]]\n",
      "\n",
      "Specific element: 9\n",
      "\n",
      "Entire row: [4 5 6]\n",
      "\n",
      "Entire column: [1 4 7]\n"
     ]
    }
   ],
   "source": [
    "arr_2D = np.array([ [1, 2, 3],\n",
    "                    [4, 5, 6],\n",
    "                    [7, 8, 9] ])\n",
    "\n",
    "print(f\"Original 2D Array:\\n{arr_2D}\")\n",
    "\n",
    "# targeting an element on specific row and column\n",
    "print(f\"\\nSpecific element: {arr_2D[2,2]}\")         # 3rd row 3rd column\n",
    "\n",
    "# targeting entire row\n",
    "print(f\"\\nEntire row: {arr_2D[1]}\")                 # entire 2nd row\n",
    "\n",
    "# targeting entire column\n",
    "print(f\"\\nEntire column: {arr_2D[:,0]}\")            # entire 1st column"
   ]
  },
  {
   "cell_type": "markdown",
   "id": "83c62537",
   "metadata": {},
   "source": [
    "### Sorting arrays"
   ]
  },
  {
   "cell_type": "code",
   "execution_count": null,
   "id": "56af8a49",
   "metadata": {},
   "outputs": [
    {
     "name": "stdout",
     "output_type": "stream",
     "text": [
      "Unsorted 1D array: [3 5 2 5 1 8 0 4 2 9 6]\n",
      "\n",
      "Sorted 1D array: [0 1 2 2 3 4 5 5 6 8 9]\n",
      "\n",
      "Unsorted 2D array: \n",
      "[[3 1]\n",
      " [1 2]\n",
      " [2 3]]\n",
      "\n",
      "Sorted 2D array by column: \n",
      "[[1 1]\n",
      " [2 2]\n",
      " [3 3]]\n",
      "\n",
      "Sorted 2D array by row: \n",
      "[[1 3]\n",
      " [1 2]\n",
      " [2 3]]\n"
     ]
    }
   ],
   "source": [
    "arr_1D_unsorted = np.array([3, 5, 2, 5, 1, 8, 0, 4, 2, 9, 6])\n",
    "print(f\"Unsorted 1D array: {arr_1D_unsorted}\")\n",
    "\n",
    "print(f\"\\nSorted 1D array: {np.sort(arr_1D_unsorted)}\")\n",
    "\n",
    "arr_2D_unsorted = np.array([ [3, 1],\n",
    "                             [1, 2],\n",
    "                             [2, 3] ])\n",
    "\n",
    "print(f\"\\nUnsorted 2D array: \\n{arr_2D_unsorted}\")\n",
    "\n",
    "print(f\"\\nSorted 2D array by column: \\n{np.sort(arr_2D_unsorted, axis=0)}\") # axis = 0 for column-wise sorting\n",
    "print(f\"\\nSorted 2D array by row: \\n{np.sort(arr_2D_unsorted, axis=1)}\")    # axis = 0 for row-wise sorting"
   ]
  }
 ],
 "metadata": {
  "kernelspec": {
   "display_name": "venv",
   "language": "python",
   "name": "python3"
  },
  "language_info": {
   "codemirror_mode": {
    "name": "ipython",
    "version": 3
   },
   "file_extension": ".py",
   "mimetype": "text/x-python",
   "name": "python",
   "nbconvert_exporter": "python",
   "pygments_lexer": "ipython3",
   "version": "3.8.0"
  }
 },
 "nbformat": 4,
 "nbformat_minor": 5
}
